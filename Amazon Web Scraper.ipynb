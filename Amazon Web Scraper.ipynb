{
 "cells": [
  {
   "cell_type": "code",
   "execution_count": 1,
   "id": "1b50eb05",
   "metadata": {},
   "outputs": [],
   "source": [
    "# First import libraries\n",
    "\n",
    "from bs4 import BeautifulSoup\n",
    "import requests\n",
    "import time\n",
    "import datetime\n",
    "\n",
    "import pandas as pd\n",
    "\n",
    "import csv"
   ]
  },
  {
   "cell_type": "code",
   "execution_count": 2,
   "id": "14583ddd",
   "metadata": {},
   "outputs": [
    {
     "name": "stdout",
     "output_type": "stream",
     "text": [
      "\n",
      "                   $10.94\n",
      "                  \n",
      "\n",
      "            Healthy Choices Cookbook No Sugar. No White Flour. No Artificial Anything\n",
      "           \n",
      "\n",
      "\n",
      "\n",
      "\n",
      "\n",
      "                  3.9 out of 5 stars\n",
      "                 \n",
      "\n",
      "\n",
      "\n",
      "\n",
      "\n",
      "\n",
      "\n",
      "\n",
      "\n",
      "               43 ratings\n",
      "              \n"
     ]
    }
   ],
   "source": [
    "# Connect to the website\n",
    "\n",
    "URL = \"https://www.amazon.com/Healthy-Choices-Cookbook-Artificial-Anything/dp/1933753129/ref=sr_1_1?crid=HZ12H62JW96R&keywords=cookbook+no+discount&qid=1681872910&sprefix=cookbook+no+discount%2Caps%2C697&sr=8-1\"\n",
    "\n",
    "headers = {\"User-Agent\": \"Mozilla/5.0 (Windows NT 10.0; Win64; x64) AppleWebKit/537.36 (KHTML, like Gecko) Chrome/112.0.0.0 Safari/537.36 Edg/112.0.1722.39\", \"Accept-Encoding\": \"gzip, deflate\", \"Accept\": \"text/html,application/xhtml+xml,application/xml;q=0.9,image/webp,image/apng,*/*;q=0.8,application/signed-exchange;v=b3;q=0.7\", \"DNT\": \"1\", \"Connection\": \"close\", \"Upgrade-Insecure-Requests\": \"1\"}\n",
    "\n",
    "page = requests.get(URL, headers=headers)\n",
    "\n",
    "soup1 = BeautifulSoup(page.content, \"html.parser\")\n",
    "\n",
    "soup2 = BeautifulSoup(soup1.prettify(), \"html.parser\")\n",
    "\n",
    "title = soup2.find(id='productTitle').get_text()\n",
    "price = soup2.find(class_='a-size-base a-color-price a-color-price').get_text()\n",
    "rating = soup2.find(id='acrPopover').get_text()\n",
    "reviewsNo = soup2.find(id='acrCustomerReviewText').get_text()\n",
    "\n",
    "print(price)\n",
    "print(title)\n",
    "print(rating)\n",
    "print(reviewsNo)"
   ]
  },
  {
   "cell_type": "code",
   "execution_count": 3,
   "id": "c540aa61",
   "metadata": {},
   "outputs": [
    {
     "name": "stdout",
     "output_type": "stream",
     "text": [
      "10.94\n",
      "Healthy Choices Cookbook No Sugar. No White Flour. No Artificial Anything\n",
      "3.9 out of 5 stars\n",
      "43 ratings\n"
     ]
    }
   ],
   "source": [
    "# To clean the data and remove the whitespace\n",
    "\n",
    "price = price.strip()[1:]\n",
    "title = title.strip()\n",
    "rating = rating.strip()\n",
    "reviewsNo = reviewsNo.strip()\n",
    "\n",
    "\n",
    "print(price)\n",
    "print(title)\n",
    "print(rating)\n",
    "print(reviewsNo)"
   ]
  },
  {
   "cell_type": "code",
   "execution_count": 4,
   "id": "c3b5a27e",
   "metadata": {},
   "outputs": [
    {
     "name": "stdout",
     "output_type": "stream",
     "text": [
      "2023-04-19\n"
     ]
    }
   ],
   "source": [
    "today = datetime.date.today()\n",
    "\n",
    "print(today)"
   ]
  },
  {
   "cell_type": "code",
   "execution_count": 5,
   "id": "962176a6",
   "metadata": {},
   "outputs": [],
   "source": [
    "header = ['Title', 'Price', 'Ratings', 'Number of Reviews', 'Date']\n",
    "data = [title, price, rating, reviewsNo, today]\n",
    "\n",
    "with open('AmazonWebScrapingDataset.csv', 'w', newline='', encoding='UTF8') as f:\n",
    "    writer = csv.writer(f)\n",
    "    writer.writerow(header)\n",
    "    writer.writerow(data)\n",
    "    "
   ]
  },
  {
   "cell_type": "code",
   "execution_count": 6,
   "id": "c7aad924",
   "metadata": {},
   "outputs": [
    {
     "name": "stdout",
     "output_type": "stream",
     "text": [
      "                                               Title  Price  \\\n",
      "0  Healthy Choices Cookbook No Sugar. No White Fl...  10.94   \n",
      "\n",
      "              Ratings Number of Reviews        Date  \n",
      "0  3.9 out of 5 stars        43 ratings  2023-04-19  \n"
     ]
    }
   ],
   "source": [
    "df = pd.read_csv(r'C:\\Users\\iamju\\AmazonWebScrapingDataset.csv')\n",
    "\n",
    "print(df)"
   ]
  },
  {
   "cell_type": "code",
   "execution_count": 7,
   "id": "3fe454b9",
   "metadata": {},
   "outputs": [],
   "source": [
    "# Appending data to the csv\n",
    "\n",
    "with open('AmazonWebScrapingDataset.csv', 'a+', newline='', encoding='UTF8') as f:\n",
    "    writer = csv.writer(f)\n",
    "    writer.writerow(data)"
   ]
  },
  {
   "cell_type": "code",
   "execution_count": 8,
   "id": "a420e8d2",
   "metadata": {},
   "outputs": [],
   "source": [
    "# Function to scrape and appends the data along with the current date to the CSV file\n",
    "\n",
    "def check_price():\n",
    "    URL = \"https://www.amazon.com/Healthy-Choices-Cookbook-Artificial-Anything/dp/1933753129/ref=sr_1_1?crid=HZ12H62JW96R&keywords=cookbook+no+discount&qid=1681872910&sprefix=cookbook+no+discount%2Caps%2C697&sr=8-1\"\n",
    "\n",
    "    headers = {\"User-Agent\": \"Mozilla/5.0 (Windows NT 10.0; Win64; x64) AppleWebKit/537.36 (KHTML, like Gecko) Chrome/112.0.0.0 Safari/537.36 Edg/112.0.1722.39\", \"Accept-Encoding\": \"gzip, deflate\", \"Accept\": \"text/html,application/xhtml+xml,application/xml;q=0.9,image/webp,image/apng,*/*;q=0.8,application/signed-exchange;v=b3;q=0.7\", \"DNT\": \"1\", \"Connection\": \"close\", \"Upgrade-Insecure-Requests\": \"1\"}\n",
    "\n",
    "    page = requests.get(URL, headers=headers)\n",
    "\n",
    "    soup1 = BeautifulSoup(page.content, \"html.parser\")\n",
    "\n",
    "    soup2 = BeautifulSoup(soup1.prettify(), \"html.parser\")\n",
    "\n",
    "    title = soup2.find(id='productTitle').get_text()\n",
    "    price = soup2.find(class_='a-size-base a-color-price a-color-price').get_text()\n",
    "    rating = soup2.find(id='acrPopover').get_text()\n",
    "    reviewsNo = soup2.find(id='acrCustomerReviewText').get_text()\n",
    "    \n",
    "    price = price.strip()[1:]\n",
    "    title = title.strip()\n",
    "    rating = rating.strip()\n",
    "    reviewsNo = reviewsNo.strip()\n",
    "    \n",
    "    today = datetime.date.today()\n",
    "    \n",
    "    header = ['Title', 'Price', 'Ratings', 'Number of Reviews', 'Date']\n",
    "    data = [title, price, rating, reviewsNo, today]\n",
    "    \n",
    "    with open('AmazonWebScrapingDataset.csv', 'a+', newline='', encoding='UTF8') as f:\n",
    "        writer = csv.writer(f)\n",
    "        writer.writerow(data)\n",
    "        "
   ]
  },
  {
   "cell_type": "code",
   "execution_count": null,
   "id": "b1581b00",
   "metadata": {},
   "outputs": [],
   "source": [
    "while(True):\n",
    "    check_price()\n",
    "    time.sleep(86400)"
   ]
  },
  {
   "cell_type": "code",
   "execution_count": null,
   "id": "e20af586",
   "metadata": {},
   "outputs": [],
   "source": []
  }
 ],
 "metadata": {
  "kernelspec": {
   "display_name": "Python 3 (ipykernel)",
   "language": "python",
   "name": "python3"
  },
  "language_info": {
   "codemirror_mode": {
    "name": "ipython",
    "version": 3
   },
   "file_extension": ".py",
   "mimetype": "text/x-python",
   "name": "python",
   "nbconvert_exporter": "python",
   "pygments_lexer": "ipython3",
   "version": "3.10.9"
  }
 },
 "nbformat": 4,
 "nbformat_minor": 5
}
